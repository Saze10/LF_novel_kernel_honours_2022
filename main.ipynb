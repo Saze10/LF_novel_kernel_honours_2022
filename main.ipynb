{
 "cells": [
  {
   "cell_type": "markdown",
   "id": "057e877d",
   "metadata": {},
   "source": [
    "# 2022 Sydney University Honours project - Novel kernels for deep learning on light field images"
   ]
  },
  {
   "cell_type": "code",
   "execution_count": 6,
   "id": "7ef404d4",
   "metadata": {},
   "outputs": [
    {
     "name": "stdout",
     "output_type": "stream",
     "text": [
      "2.9.1\n"
     ]
    }
   ],
   "source": [
    "import numpy as np\n",
    "import os\n",
    "import PIL\n",
    "from PIL import Image\n",
    "import tensorflow as tf\n",
    "from tensorflow.keras import layers\n",
    "import matplotlib.pyplot as plt\n",
    "import sys, glob, os, random\n",
    "import pandas as pd\n",
    "print(tf.__version__)"
   ]
  },
  {
   "cell_type": "markdown",
   "id": "832b6e59",
   "metadata": {},
   "source": [
    "### Data loading"
   ]
  },
  {
   "cell_type": "code",
   "execution_count": 17,
   "id": "d4fa5102",
   "metadata": {},
   "outputs": [],
   "source": [
    "exclude_ref = True\n",
    "dn = \"MPI-LFA\"\n",
    "af = \"x8\" ###-\n",
    "img_format = \"png\"\n",
    "s = None"
   ]
  },
  {
   "cell_type": "markdown",
   "id": "c41cb103",
   "metadata": {},
   "source": [
    "Stack 2D images to get a single LFI"
   ]
  },
  {
   "cell_type": "code",
   "execution_count": 18,
   "id": "4b110261",
   "metadata": {},
   "outputs": [],
   "source": [
    "def select_sai_range():\n",
    "    n_sai = 101\n",
    "    target_n_sai = 49\n",
    "    mid = n_sai//2\n",
    "    left = mid - target_n_sai//2\n",
    "    right = mid + target_n_sai//2\n",
    "    return left, right\n",
    "\n",
    "def proc_sai(p):\n",
    "    # print(\"proc_sai\")\n",
    "    img = Image.open(p)\n",
    "    w, h = img.size\n",
    "    # left, top, right, bottom\n",
    "    w_offset = int((w-434)/2)\n",
    "    h_offset = int((h-434)/2)\n",
    "    l,r = w_offset, w_offset+434\n",
    "    tp,b = h_offset, h_offset+434\n",
    "    window = (l,tp,r,b)\n",
    "    new_img = img.crop(window)\n",
    "    # print(new_img)\n",
    "    return np.asarray(new_img)\n",
    "\n",
    "def flatten_dataset(save_dir, read_dir):\n",
    "    read_dir = read_dir\n",
    "    read_img_paths = glob.glob(read_dir+\"**/*.\"+img_format, recursive=True)\n",
    "    read_img_paths = sorted(read_img_paths)\n",
    "\n",
    "    save_dir = './'\n",
    "    save_ref = save_dir+'ref/'\n",
    "    save_dist = save_dir+'dist/'\n",
    "    if not os.path.exists(save_ref):\n",
    "        os.makedirs(save_ref)\n",
    "\n",
    "    if not os.path.exists(save_dist):\n",
    "        os.makedirs(save_dist)\n",
    "        ref_word = 'ALL_REF'\n",
    "\n",
    "\n",
    "    # print(read_img_paths)\n",
    "    print(len(read_img_paths)//101)\n",
    "    left, right  = select_sai_range()\n",
    "\n",
    "    print(left, right)\n",
    "\n",
    "    i = 0\n",
    "    j = 0\n",
    "    while i < len(read_img_paths):\n",
    "        # print(i, j)\n",
    "        if not (left <= j <= right):\n",
    "          i += 1\n",
    "          j += 1\n",
    "          continue\n",
    "\n",
    "        if j == left:\n",
    "            to_shape=(7,434,7,434,3)\n",
    "            lfi = np.zeros(to_shape, dtype=np.uint8)\n",
    "            frames = []\n",
    "\n",
    "        p = read_img_paths[i]\n",
    "        frames.append(p)\n",
    "\n",
    "        sai = proc_sai(p)\n",
    "        # print(sai)\n",
    "        u, v = (j-left)//7, (j-left)%7\n",
    "        lfi[u,:,v,:,:] = sai\n",
    "\n",
    "        i += 1\n",
    "        j += 1\n",
    "        if j == 75:\n",
    "            #print(frames)\n",
    "            j = 0\n",
    "            i += 26\n",
    "            parts = p.split(s)\n",
    "            name = parts[-3]+'-'+parts[-2]\n",
    "            lfi = lfi.reshape((7*434, 7*434, 3), order='F')\n",
    "\n",
    "            new_img = Image.fromarray(lfi)\n",
    "\n",
    "            if ref_word in name:\n",
    "                new_img.save(save_ref+name+\".png\",img_format)\n",
    "            else:\n",
    "                new_img.save(save_dist+name+\".png\",img_format)\n",
    "\n",
    "            print(f\"{name} saved.\")"
   ]
  },
  {
   "cell_type": "code",
   "execution_count": 19,
   "id": "984a49f8",
   "metadata": {},
   "outputs": [
    {
     "name": "stdout",
     "output_type": "stream",
     "text": [
      "0\n",
      "26 74\n"
     ]
    },
    {
     "ename": "IndexError",
     "evalue": "list index out of range",
     "output_type": "error",
     "traceback": [
      "\u001b[0;31m---------------------------------------------------------------------------\u001b[0m",
      "\u001b[0;31mIndexError\u001b[0m                                Traceback (most recent call last)",
      "Input \u001b[0;32mIn [19]\u001b[0m, in \u001b[0;36m<cell line: 6>\u001b[0;34m()\u001b[0m\n\u001b[1;32m      1\u001b[0m data_path \u001b[38;5;241m=\u001b[39m \u001b[38;5;124m'\u001b[39m\u001b[38;5;124m../../datasets\u001b[39m\u001b[38;5;124m'\u001b[39m\n\u001b[1;32m      3\u001b[0m \u001b[38;5;66;03m#img = Image.open(data_path + '/hci_dataset/training/boxes/input_Cam000.png')\u001b[39;00m\n\u001b[1;32m      4\u001b[0m \u001b[38;5;66;03m#img.show()\u001b[39;00m\n\u001b[0;32m----> 6\u001b[0m \u001b[43mflatten_dataset\u001b[49m\u001b[43m(\u001b[49m\u001b[43mdata_path\u001b[49m\u001b[43m \u001b[49m\u001b[38;5;241;43m+\u001b[39;49m\u001b[43m \u001b[49m\u001b[38;5;124;43m'\u001b[39;49m\u001b[38;5;124;43m/hci_dataset/training/boxes/stacked\u001b[39;49m\u001b[38;5;124;43m'\u001b[39;49m\u001b[43m,\u001b[49m\u001b[43m \u001b[49m\n\u001b[1;32m      7\u001b[0m \u001b[43m                \u001b[49m\u001b[43mdata_path\u001b[49m\u001b[43m \u001b[49m\u001b[38;5;241;43m+\u001b[39;49m\u001b[43m \u001b[49m\u001b[38;5;124;43m'\u001b[39;49m\u001b[38;5;124;43m/hci_dataset/training/boxes/\u001b[39;49m\u001b[38;5;124;43m'\u001b[39;49m\u001b[43m)\u001b[49m\n",
      "Input \u001b[0;32mIn [18]\u001b[0m, in \u001b[0;36mflatten_dataset\u001b[0;34m(save_dir, read_dir)\u001b[0m\n\u001b[1;32m     72\u001b[0m i \u001b[38;5;241m+\u001b[39m\u001b[38;5;241m=\u001b[39m \u001b[38;5;241m26\u001b[39m\n\u001b[1;32m     73\u001b[0m parts \u001b[38;5;241m=\u001b[39m p\u001b[38;5;241m.\u001b[39msplit(s)\n\u001b[0;32m---> 74\u001b[0m name \u001b[38;5;241m=\u001b[39m \u001b[43mparts\u001b[49m\u001b[43m[\u001b[49m\u001b[38;5;241;43m-\u001b[39;49m\u001b[38;5;241;43m3\u001b[39;49m\u001b[43m]\u001b[49m\u001b[38;5;241m+\u001b[39m\u001b[38;5;124m'\u001b[39m\u001b[38;5;124m-\u001b[39m\u001b[38;5;124m'\u001b[39m\u001b[38;5;241m+\u001b[39mparts[\u001b[38;5;241m-\u001b[39m\u001b[38;5;241m2\u001b[39m]\n\u001b[1;32m     75\u001b[0m lfi \u001b[38;5;241m=\u001b[39m lfi\u001b[38;5;241m.\u001b[39mreshape((\u001b[38;5;241m7\u001b[39m\u001b[38;5;241m*\u001b[39m\u001b[38;5;241m434\u001b[39m, \u001b[38;5;241m7\u001b[39m\u001b[38;5;241m*\u001b[39m\u001b[38;5;241m434\u001b[39m, \u001b[38;5;241m3\u001b[39m), order\u001b[38;5;241m=\u001b[39m\u001b[38;5;124m'\u001b[39m\u001b[38;5;124mF\u001b[39m\u001b[38;5;124m'\u001b[39m)\n\u001b[1;32m     77\u001b[0m new_img \u001b[38;5;241m=\u001b[39m Image\u001b[38;5;241m.\u001b[39mfromarray(lfi)\n",
      "\u001b[0;31mIndexError\u001b[0m: list index out of range"
     ]
    }
   ],
   "source": [
    "data_path = '../../datasets'\n",
    "\n",
    "#img = Image.open(data_path + '/hci_dataset/training/boxes/input_Cam000.png')\n",
    "#img.show()\n",
    "\n",
    "flatten_dataset(data_path + '/hci_dataset/training/boxes/stacked', \n",
    "                data_path + '/hci_dataset/training/boxes/')"
   ]
  },
  {
   "cell_type": "code",
   "execution_count": 20,
   "id": "157d17f8",
   "metadata": {},
   "outputs": [
    {
     "name": "stdout",
     "output_type": "stream",
     "text": [
      "(1, 512, 512, 3)\n"
     ]
    }
   ],
   "source": [
    "image = tf.keras.utils.load_img(\n",
    "    data_path + '/hci_dataset/training/boxes/input_Cam000.png',\n",
    "    grayscale=False,\n",
    "    color_mode='rgb',\n",
    "    target_size=None,\n",
    "    interpolation='nearest',\n",
    "    keep_aspect_ratio=False\n",
    ")\n",
    "\n",
    "input_arr = tf.keras.preprocessing.image.img_to_array(image)\n",
    "input_arr = np.array([input_arr]) \n",
    "print(input_arr.shape)"
   ]
  },
  {
   "cell_type": "code",
   "execution_count": null,
   "id": "4b2330b8",
   "metadata": {},
   "outputs": [],
   "source": []
  }
 ],
 "metadata": {
  "kernelspec": {
   "display_name": "Python 3 (ipykernel)",
   "language": "python",
   "name": "python3"
  },
  "language_info": {
   "codemirror_mode": {
    "name": "ipython",
    "version": 3
   },
   "file_extension": ".py",
   "mimetype": "text/x-python",
   "name": "python",
   "nbconvert_exporter": "python",
   "pygments_lexer": "ipython3",
   "version": "3.9.12"
  }
 },
 "nbformat": 4,
 "nbformat_minor": 5
}
